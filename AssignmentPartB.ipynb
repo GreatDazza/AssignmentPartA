{
 "cells": [
  {
   "cell_type": "code",
   "execution_count": 9,
   "id": "8fdabb69",
   "metadata": {
    "scrolled": true
   },
   "outputs": [
    {
     "name": "stdout",
     "output_type": "stream",
     "text": [
      "                                           Incidents\n",
      "0         OBJECTID   ACCIDENT_NO                 ...\n"
     ]
    }
   ],
   "source": [
    "import pandas as pd;\n",
    "\n",
    "chunksize = 1000;\n",
    "\n",
    "\n",
    "data = pd.read_csv('Crash Statistics Victoria.csv')\n",
    "df = pd.DataFrame({'Incidents': [data]})\n",
    "\n",
    "print(df)\n"
   ]
  },
  {
   "cell_type": "code",
   "execution_count": null,
   "id": "1d51a5e2",
   "metadata": {},
   "outputs": [],
   "source": []
  },
  {
   "cell_type": "code",
   "execution_count": null,
   "id": "69366188",
   "metadata": {},
   "outputs": [],
   "source": []
  }
 ],
 "metadata": {
  "kernelspec": {
   "display_name": "Python 3 (ipykernel)",
   "language": "python",
   "name": "python3"
  },
  "language_info": {
   "codemirror_mode": {
    "name": "ipython",
    "version": 3
   },
   "file_extension": ".py",
   "mimetype": "text/x-python",
   "name": "python",
   "nbconvert_exporter": "python",
   "pygments_lexer": "ipython3",
   "version": "3.9.12"
  }
 },
 "nbformat": 4,
 "nbformat_minor": 5
}
